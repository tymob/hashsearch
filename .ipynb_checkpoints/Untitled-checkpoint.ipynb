{
 "cells": [
  {
   "cell_type": "code",
   "execution_count": 1,
   "metadata": {},
   "outputs": [],
   "source": [
    "%load_ext Cython\n"
   ]
  },
  {
   "cell_type": "code",
   "execution_count": 2,
   "metadata": {},
   "outputs": [],
   "source": [
    "\n",
    "import pandas as pd\n",
    "import numpy as np\n",
    "import hashlib"
   ]
  },
  {
   "cell_type": "code",
   "execution_count": 3,
   "metadata": {
    "collapsed": true
   },
   "outputs": [],
   "source": [
    "\n",
    "combine1=\"part1.csv\"\n",
    "combine2=\"part2.csv\"\n",
    "same_line_of_combine1=1 #同じ列０からカウント\n",
    "same_line_of_combine2=0\n",
    "no_need_of_combine1=[1]\n",
    "no_need_of_combine2=[2]\n",
    "result_csv=combine1+\"_\"+combine2+\".csv\""
   ]
  },
  {
   "cell_type": "code",
   "execution_count": 7,
   "metadata": {},
   "outputs": [
    {
     "name": "stdout",
     "output_type": "stream",
     "text": [
      "2\n",
      "2\n"
     ]
    }
   ],
   "source": [
    "\n",
    "df1=pd.read_csv(combine1)\n",
    "df2=pd.read_csv(combine2)\n",
    "result = pd.DataFrame(index=[1,2], columns=[1,2])\n",
    "y1,x1=df1.shape\n",
    "y2,x2=df2.shape\n",
    "result=[]\n",
    "result2=[]\n",
    "combined=[[]]\n",
    "tmp=[]"
   ]
  },
  {
   "cell_type": "code",
   "execution_count": 5,
   "metadata": {},
   "outputs": [
    {
     "name": "stdout",
     "output_type": "stream",
     "text": [
      "Fuhu\n",
      "Fuhu\n",
      "d2f7144dc353575d1919e79a5f6e072e\n",
      "d2f7144dc353575d1919e79a5f6e072e\n"
     ]
    }
   ],
   "source": [
    "# hashオブジェクトの作成\n",
    "md5 = hashlib.md5()\n",
    "print df1.iloc[0,same_line_of_combine1]\n",
    "print df2.iloc[0,same_line_of_combine2]\n",
    "for i in range(y1):\n",
    "    result.append(hashlib.md5(df1.iloc[i,same_line_of_combine1]).hexdigest()) \n",
    "for j in range(y2):\n",
    "    result2.append(hashlib.md5(df2.iloc[j,same_line_of_combine2]).hexdigest())\n",
    "print result[0]\n",
    "print result2[0]"
   ]
  },
  {
   "cell_type": "code",
   "execution_count": 6,
   "metadata": {},
   "outputs": [],
   "source": [
    "for i in range(y1):\n",
    "    for j in range(y2):\n",
    "        if (result[i] in result2[j]) == True:\n",
    "            for k in range(x1):\n",
    "                tmp.append(df1.iloc[i,k])\n",
    "            for l in range(x2):\n",
    "                tmp.append(df2.iloc[j,l])\n",
    "            combined.append(tmp)\n",
    "df3=pd.Series(combined)        "
   ]
  },
  {
   "cell_type": "code",
   "execution_count": null,
   "metadata": {},
   "outputs": [],
   "source": [
    "print df3"
   ]
  },
  {
   "cell_type": "code",
   "execution_count": null,
   "metadata": {
    "collapsed": true
   },
   "outputs": [],
   "source": []
  }
 ],
 "metadata": {
  "kernelspec": {
   "display_name": "Python 2",
   "language": "python",
   "name": "python2"
  },
  "language_info": {
   "codemirror_mode": {
    "name": "ipython",
    "version": 2
   },
   "file_extension": ".py",
   "mimetype": "text/x-python",
   "name": "python",
   "nbconvert_exporter": "python",
   "pygments_lexer": "ipython2",
   "version": "2.7.12"
  }
 },
 "nbformat": 4,
 "nbformat_minor": 2
}
