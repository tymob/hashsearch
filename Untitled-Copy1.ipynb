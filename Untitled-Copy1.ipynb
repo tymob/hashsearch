{
 "cells": [
  {
   "cell_type": "code",
   "execution_count": 1,
   "metadata": {},
   "outputs": [],
   "source": [
    "%load_ext Cython"
   ]
  },
  {
   "cell_type": "code",
   "execution_count": 2,
   "metadata": {},
   "outputs": [],
   "source": [
    "\n",
    "import pandas as pd\n",
    "import numpy as np\n",
    "import hashlib"
   ]
  },
  {
   "cell_type": "code",
   "execution_count": 3,
   "metadata": {},
   "outputs": [
    {
     "name": "stdout",
     "output_type": "stream",
     "text": [
      "|-\n"
     ]
    }
   ],
   "source": [
    "\n",
    "csv_read=\"part1.csv\"\n",
    "result_csv=\"hashed\"+csv_read\n",
    "df=pd.read_csv(csv_read)\n",
    "y,x=df.shape\n",
    "print(\"|-\")\n",
    "result=[]\n",
    "result2=[]"
   ]
  },
  {
   "cell_type": "code",
   "execution_count": 4,
   "metadata": {},
   "outputs": [],
   "source": [
    "hash_column_list = [1]"
   ]
  },
  {
   "cell_type": "code",
   "execution_count": 5,
   "metadata": {},
   "outputs": [
    {
     "name": "stdout",
     "output_type": "stream",
     "text": [
      "                                               _pageUrl  \\\n",
      "0     http://www.inc.com/inc5000list/json/inc5000_20...   \n",
      "1     http://www.inc.com/inc5000list/json/inc5000_20...   \n",
      "2     http://www.inc.com/inc5000list/json/inc5000_20...   \n",
      "3     http://www.inc.com/inc5000list/json/inc5000_20...   \n",
      "4     http://www.inc.com/inc5000list/json/inc5000_20...   \n",
      "5     http://www.inc.com/inc5000list/json/inc5000_20...   \n",
      "6     http://www.inc.com/inc5000list/json/inc5000_20...   \n",
      "7     http://www.inc.com/inc5000list/json/inc5000_20...   \n",
      "8     http://www.inc.com/inc5000list/json/inc5000_20...   \n",
      "9     http://www.inc.com/inc5000list/json/inc5000_20...   \n",
      "10    http://www.inc.com/inc5000list/json/inc5000_20...   \n",
      "11    http://www.inc.com/inc5000list/json/inc5000_20...   \n",
      "12    http://www.inc.com/inc5000list/json/inc5000_20...   \n",
      "13    http://www.inc.com/inc5000list/json/inc5000_20...   \n",
      "14    http://www.inc.com/inc5000list/json/inc5000_20...   \n",
      "15    http://www.inc.com/inc5000list/json/inc5000_20...   \n",
      "16    http://www.inc.com/inc5000list/json/inc5000_20...   \n",
      "17    http://www.inc.com/inc5000list/json/inc5000_20...   \n",
      "18    http://www.inc.com/inc5000list/json/inc5000_20...   \n",
      "19    http://www.inc.com/inc5000list/json/inc5000_20...   \n",
      "20    http://www.inc.com/inc5000list/json/inc5000_20...   \n",
      "21    http://www.inc.com/inc5000list/json/inc5000_20...   \n",
      "22    http://www.inc.com/inc5000list/json/inc5000_20...   \n",
      "23    http://www.inc.com/inc5000list/json/inc5000_20...   \n",
      "24    http://www.inc.com/inc5000list/json/inc5000_20...   \n",
      "25    http://www.inc.com/inc5000list/json/inc5000_20...   \n",
      "26    http://www.inc.com/inc5000list/json/inc5000_20...   \n",
      "27    http://www.inc.com/inc5000list/json/inc5000_20...   \n",
      "28    http://www.inc.com/inc5000list/json/inc5000_20...   \n",
      "29    http://www.inc.com/inc5000list/json/inc5000_20...   \n",
      "...                                                 ...   \n",
      "4970  http://www.inc.com/inc5000list/json/inc5000_20...   \n",
      "4971  http://www.inc.com/inc5000list/json/inc5000_20...   \n",
      "4972  http://www.inc.com/inc5000list/json/inc5000_20...   \n",
      "4973  http://www.inc.com/inc5000list/json/inc5000_20...   \n",
      "4974  http://www.inc.com/inc5000list/json/inc5000_20...   \n",
      "4975  http://www.inc.com/inc5000list/json/inc5000_20...   \n",
      "4976  http://www.inc.com/inc5000list/json/inc5000_20...   \n",
      "4977  http://www.inc.com/inc5000list/json/inc5000_20...   \n",
      "4978  http://www.inc.com/inc5000list/json/inc5000_20...   \n",
      "4979  http://www.inc.com/inc5000list/json/inc5000_20...   \n",
      "4980  http://www.inc.com/inc5000list/json/inc5000_20...   \n",
      "4981  http://www.inc.com/inc5000list/json/inc5000_20...   \n",
      "4982  http://www.inc.com/inc5000list/json/inc5000_20...   \n",
      "4983  http://www.inc.com/inc5000list/json/inc5000_20...   \n",
      "4984  http://www.inc.com/inc5000list/json/inc5000_20...   \n",
      "4985  http://www.inc.com/inc5000list/json/inc5000_20...   \n",
      "4986  http://www.inc.com/inc5000list/json/inc5000_20...   \n",
      "4987  http://www.inc.com/inc5000list/json/inc5000_20...   \n",
      "4988  http://www.inc.com/inc5000list/json/inc5000_20...   \n",
      "4989  http://www.inc.com/inc5000list/json/inc5000_20...   \n",
      "4990  http://www.inc.com/inc5000list/json/inc5000_20...   \n",
      "4991  http://www.inc.com/inc5000list/json/inc5000_20...   \n",
      "4992  http://www.inc.com/inc5000list/json/inc5000_20...   \n",
      "4993  http://www.inc.com/inc5000list/json/inc5000_20...   \n",
      "4994  http://www.inc.com/inc5000list/json/inc5000_20...   \n",
      "4995  http://www.inc.com/inc5000list/json/inc5000_20...   \n",
      "4996  http://www.inc.com/inc5000list/json/inc5000_20...   \n",
      "4997  http://www.inc.com/inc5000list/json/inc5000_20...   \n",
      "4998  http://www.inc.com/inc5000list/json/inc5000_20...   \n",
      "4999  http://www.inc.com/inc5000list/json/inc5000_20...   \n",
      "\n",
      "                               company  \n",
      "0     d2f7144dc353575d1919e79a5f6e072e  \n",
      "1     1d4569c2a81731278a867b3d1d1e1fbc  \n",
      "2     32ef7f3529292799881a63802da8a232  \n",
      "3     653f0b89fbe20530fc5fb5cf21cb4c69  \n",
      "4     8a6ae320c181c8ff9d5bc19989eaa8f4  \n",
      "5     caf9813ec93a232fa903b272e465ec73  \n",
      "6     b3c91a25f60800b7ffa44291e9b72666  \n",
      "7     f6a6350cc0eb057696460b149d910bd6  \n",
      "8     fb3304cdec80c81451f87a3d8279e003  \n",
      "9     c58c6970aff4fe5556d938141614cb3a  \n",
      "10    a467b0531eae6a2f037592c384b50cc1  \n",
      "11    9893d205d992d20a102d0e097fc00e44  \n",
      "12    3152be09192d34d721a2e26c7eff3e2e  \n",
      "13    f874b0f889ff24c4769bc6cf65ba6cc6  \n",
      "14    9188a45612e7182ce6c855ab1c37f58f  \n",
      "15    310e8316d60df2d8d31e9f5d42ea6abd  \n",
      "16    c6a1a01cd7ffa5ed3759880866e4ac3c  \n",
      "17    7239816d5e7729a1a70e91bdd3237638  \n",
      "18    1c7b16a9ef09bd249d9e82ff90265317  \n",
      "19    7cc982a7161d5a0a3d5ef658e0f5482c  \n",
      "20    589e69c79285a40dba711ad62b43145c  \n",
      "21    57bd4ae69386b799904dcff7b2781978  \n",
      "22    5a1b620a0647bc97119684e9fc293a65  \n",
      "23    27931031581604530cc1ea6a596d53af  \n",
      "24    f72be9ceb2fe2256931d141e7a15bbaa  \n",
      "25    cfc0d6d25b4af342f7a1a3c166a1af38  \n",
      "26    dec5475e84fc25bf9b10a4b94eb2f146  \n",
      "27    be3ff6df26345ff4ca503543dca9344e  \n",
      "28    ae826d97629bf672d98ead5509c2bc3b  \n",
      "29    8e48b5cc635eec194b2033124e3dc64f  \n",
      "...                                ...  \n",
      "4970  1294275ae51517222ff1dce0658e1526  \n",
      "4971  aec92191f23e2f9166e23cb0f688af4b  \n",
      "4972  5a16ca29d63aef4848251531a088c229  \n",
      "4973  e70ef8481e4f9a50b18367572a35efd5  \n",
      "4974  2ed06649fd6bc55d6d694e2532c2bf48  \n",
      "4975  7351282c7d969c4b53a0f5d4b835f271  \n",
      "4976  5cc2ba9835590331422b582b7918f05e  \n",
      "4977  2a1212f0fb629d8cad919939231b1f54  \n",
      "4978  5e4524ddf334e2d548e40f3f1a652101  \n",
      "4979  9bfeb456d4fcb93bb4badd63c6c70c3a  \n",
      "4980  5c60851782d888e74784dd544ecb95ce  \n",
      "4981  4077f4b6b09a707d8b9516022d029f5a  \n",
      "4982  752cd7edffde938af0ccd5bbd4b0a48a  \n",
      "4983  4a985876d6c4bacb4c85e50f87b266b5  \n",
      "4984  42b82552889419e003c7f7f48fba10b6  \n",
      "4985  98f9cee85d4fee8f9fb40f99303ff0fb  \n",
      "4986  58060305c1de1f0b9ab2e6cb271fcd33  \n",
      "4987  e84955c69eaf9ebf181bbfbebe52a04d  \n",
      "4988  6f8047967e532bb78f72b5cf5a7cfeca  \n",
      "4989  eedcdfc1741f3a93bb730dfa39063b62  \n",
      "4990  bbe6b6f266cf0e36463d1db126a5ae41  \n",
      "4991  a8916edaf2232f0e12d15693c2cb3bd5  \n",
      "4992  6f1522a5e5c77d5b6bdcb1dc66a3c95f  \n",
      "4993  64b381628145aadd0295a0a8e7e0109f  \n",
      "4994  e3da992f9dc89a7317a42e33792c5ce9  \n",
      "4995  cb1611e1192e55f47fbd109b22482617  \n",
      "4996  046ee2c47eac9da2313edb8c0f28cd9c  \n",
      "4997  25a50a2243cb1c259f97fce36389d607  \n",
      "4998  8cee899950b88b680f7a091d157be932  \n",
      "4999  ae2d139e57978dd0691d74b3732b5744  \n",
      "\n",
      "[5000 rows x 2 columns]\n"
     ]
    }
   ],
   "source": [
    "# hashオブジェクトの作成\n",
    "md5 = hashlib.sha256()\n",
    "for i in hash_column_list:\n",
    "    for j in range(y): \n",
    "       df.iloc[j,i]=(hashlib.md5(df.iloc[j,i].encode('utf-8')).hexdigest()) \n",
    "print (df)"
   ]
  },
  {
   "cell_type": "code",
   "execution_count": 6,
   "metadata": {},
   "outputs": [],
   "source": [
    "df.to_csv(result_csv)"
   ]
  },
  {
   "cell_type": "code",
   "execution_count": null,
   "metadata": {},
   "outputs": [],
   "source": []
  },
  {
   "cell_type": "code",
   "execution_count": null,
   "metadata": {},
   "outputs": [],
   "source": []
  }
 ],
 "metadata": {
  "kernelspec": {
   "display_name": "Python 2",
   "language": "python",
   "name": "python2"
  },
  "language_info": {
   "codemirror_mode": {
    "name": "ipython",
    "version": 3
   },
   "file_extension": ".py",
   "mimetype": "text/x-python",
   "name": "python",
   "nbconvert_exporter": "python",
   "pygments_lexer": "ipython3",
   "version": "3.5.2"
  }
 },
 "nbformat": 4,
 "nbformat_minor": 2
}
